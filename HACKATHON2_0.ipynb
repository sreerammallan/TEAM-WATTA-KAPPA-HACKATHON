{
  "nbformat": 4,
  "nbformat_minor": 0,
  "metadata": {
    "colab": {
      "name": "HACKATHON2.0",
      "provenance": [],
      "collapsed_sections": [],
      "include_colab_link": true
    },
    "kernelspec": {
      "display_name": "Python 3",
      "name": "python3"
    },
    "language_info": {
      "name": "python"
    }
  },
  "cells": [
    {
      "cell_type": "markdown",
      "metadata": {
        "id": "view-in-github",
        "colab_type": "text"
      },
      "source": [
        "<a href=\"https://colab.research.google.com/github/vaarrn/TEAM-WATTA-KAPPA-HACKATHON/blob/main/HACKATHON2_0.ipynb\" target=\"_parent\"><img src=\"https://colab.research.google.com/assets/colab-badge.svg\" alt=\"Open In Colab\"/></a>"
      ]
    },
    {
      "cell_type": "code",
      "metadata": {
        "colab": {
          "base_uri": "https://localhost:8080/"
        },
        "id": "0vm9I8GjSNcM",
        "outputId": "e12690d0-c7fd-4aca-935e-0e770c8a08eb"
      },
      "source": [
        "from google.colab import auth\n",
        "auth.authenticate_user()\n",
        "import pandas as pd\n",
        "import gspread\n",
        "from oauth2client.client import GoogleCredentials\n",
        "import datetime\n",
        "\n",
        "gc = gspread.authorize(GoogleCredentials.get_application_default())\n",
        "wb = gc.open_by_key('1BTMQu6PyDeLbgG-dI7rbt3p6UDnEDsdeHXxWmCk_PMc')\n",
        "ws = wb.worksheet('Expenditure')\n",
        "\n",
        "\n",
        "\n",
        "sal = float(input(\"Enter Your Monthly Salary: \"))\n",
        "bonus = float(input(\"This month's bonus: \"))\n",
        "sav=float(input(\"Enter the amount you wish to save :\"))\n",
        "balance = (sal + bonus)-sav\n",
        "\n",
        "\n",
        "k=1\n",
        "i = ord('A')\n",
        "o = 1\n",
        "while i < ord('Z')+1:\n",
        "   cell_update = chr(i) + str (k)\n",
        "   if o == 1:\n",
        "     ws.update_acell(cell_update,\"DAY\")\n",
        "   elif o == 2:\n",
        "     ws.update_acell(cell_update,\"AMOUNT SPENT\")\n",
        "   else:\n",
        "     st = \"BILL \" + str (o-2)\n",
        "     ws.update_acell(cell_update,st)\n",
        "   i=i+1\n",
        "   o=o+1\n"
      ],
      "execution_count": null,
      "outputs": [
        {
          "output_type": "stream",
          "text": [
            "Enter Your Monthly Salary: 50000\n",
            "This month's bonus: 5000\n",
            "Enter the amount you wish to save :20000\n"
          ],
          "name": "stdout"
        }
      ]
    },
    {
      "cell_type": "code",
      "metadata": {
        "id": "CoqsT20QvnlI"
      },
      "source": [
        "def to_spend(today):\n",
        "  global k\n",
        "  global balance\n",
        "  global i\n",
        "  global o\n",
        "  global expenditure\n",
        "\n",
        "  cell_update = 'A'+ str (k)\n",
        "  tod= str(today)\n",
        "\n",
        "  ws.update_acell(cell_update,tod)\n",
        "  \n",
        "  \n",
        "  \n",
        "  print(\"Bill amount\",i,\":\")\n",
        "  amt=float(input())\n",
        "\n",
        "  expenditure = expenditure + amt\n",
        "  cell_update = 'B'+ str (k)\n",
        "  ws.update_acell(cell_update,expenditure)\n",
        "  \n",
        "  \n",
        "  balance = balance - amt\n",
        "  print(\"Available Balance :\",balance)\n",
        "  print(\"Total spent today\" , expenditure)\n",
        "  \n",
        "  \n",
        " \n",
        "  if o < ord('z')+1 :\n",
        "    cell_update = chr(o) + str (k)\n",
        "    ws.update_acell(cell_update,amt)\n",
        "    o=o+1\n",
        "  \n"
      ],
      "execution_count": null,
      "outputs": []
    },
    {
      "cell_type": "code",
      "metadata": {
        "colab": {
          "base_uri": "https://localhost:8080/"
        },
        "id": "p-OIY1YyfFXL",
        "outputId": "0ab96112-6f2d-4f4f-e755-4c06d23220dc"
      },
      "source": [
        "\n",
        "\n",
        "while True:\n",
        "  today = datetime.date.today()\n",
        "  k = k+1\n",
        "  i=0\n",
        "  o = ord('C')\n",
        "  expenditure = 0\n",
        "  while datetime.date.today() == today:\n",
        "    i =i+1\n",
        "    to_spend(today)\n"
      ],
      "execution_count": null,
      "outputs": [
        {
          "output_type": "stream",
          "text": [
            "Bill amount 1 :\n",
            "500\n",
            "Available Balance : 34500.0\n",
            "Total spent today 500.0\n",
            "Bill amount 2 :\n",
            "333.3\n",
            "Available Balance : 34166.7\n",
            "Total spent today 833.3\n",
            "Bill amount 3 :\n",
            "159\n",
            "Available Balance : 34007.7\n",
            "Total spent today 992.3\n",
            "Bill amount 4 :\n"
          ],
          "name": "stdout"
        }
      ]
    },
    {
      "cell_type": "code",
      "metadata": {
        "id": "qaFAFUisjXy3"
      },
      "source": [
        "# get_all_values gives a list of rows.\n",
        "rows = ws.get_all_values()\n",
        "pd.DataFrame.from_records(rows [1:],columns=rows[0])"
      ],
      "execution_count": null,
      "outputs": []
    }
  ]
}